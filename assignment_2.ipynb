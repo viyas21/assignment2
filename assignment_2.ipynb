{
  "nbformat": 4,
  "nbformat_minor": 0,
  "metadata": {
    "colab": {
      "provenance": []
    },
    "kernelspec": {
      "name": "python3",
      "display_name": "Python 3"
    },
    "language_info": {
      "name": "python"
    }
  },
  "cells": [
    {
      "cell_type": "markdown",
      "source": [
        "# **Write a Python program to get a list, sorted in increasing order by the last element in each tuple from a given list of non-empty tuples**"
      ],
      "metadata": {
        "id": "bxy8HL0uyUjr"
      }
    },
    {
      "cell_type": "code",
      "execution_count": 3,
      "metadata": {
        "colab": {
          "base_uri": "https://localhost:8080/"
        },
        "id": "bExyHVWbx-H-",
        "outputId": "07750b4b-b9e4-4d3e-8de2-cb629ee9e92d"
      },
      "outputs": [
        {
          "output_type": "stream",
          "name": "stdout",
          "text": [
            "[(2, 1), (1, 2), (2, 3), (4, 4), (2, 5)]\n"
          ]
        }
      ],
      "source": [
        "def sort_tuples_by_last_element(tuples_list):\n",
        "    sorted_list = sorted(tuples_list, key=lambda x: x[-1])\n",
        "    return sorted_list\n",
        "input_list = [(2, 5), (1, 2), (4, 4), (2, 3), (2, 1)]\n",
        "sorted_list = sort_tuples_by_last_element(input_list)\n",
        "print(sorted_list)\n"
      ]
    },
    {
      "cell_type": "markdown",
      "source": [
        "# **Write a Python program to print a dictionary whose keys should be the alphabet from a-z and the value should be corresponding ASCII values**"
      ],
      "metadata": {
        "id": "LATk0gVPyqly"
      }
    },
    {
      "cell_type": "code",
      "source": [
        "def create_alphabet_dict():\n",
        "    alphabet_dict = {}\n",
        "    for letter in range(ord('a'), ord('z') + 1):\n",
        "        alphabet_dict[chr(letter)] = letter\n",
        "    return alphabet_dict\n",
        "result_dict = create_alphabet_dict()\n",
        "print(result_dict)\n"
      ],
      "metadata": {
        "colab": {
          "base_uri": "https://localhost:8080/"
        },
        "id": "glD4jEPWyD4i",
        "outputId": "f4d325e8-0887-4e92-cf82-4f850fe35b53"
      },
      "execution_count": 4,
      "outputs": [
        {
          "output_type": "stream",
          "name": "stdout",
          "text": [
            "{'a': 97, 'b': 98, 'c': 99, 'd': 100, 'e': 101, 'f': 102, 'g': 103, 'h': 104, 'i': 105, 'j': 106, 'k': 107, 'l': 108, 'm': 109, 'n': 110, 'o': 111, 'p': 112, 'q': 113, 'r': 114, 's': 115, 't': 116, 'u': 117, 'v': 118, 'w': 119, 'x': 120, 'y': 121, 'z': 122}\n"
          ]
        }
      ]
    },
    {
      "cell_type": "code",
      "source": [],
      "metadata": {
        "id": "hUkv0NotyuYQ"
      },
      "execution_count": null,
      "outputs": []
    }
  ]
}